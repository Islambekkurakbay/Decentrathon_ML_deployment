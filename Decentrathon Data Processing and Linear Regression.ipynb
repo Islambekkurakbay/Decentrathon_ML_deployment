{
 "cells": [
  {
   "cell_type": "markdown",
   "id": "42f520b1",
   "metadata": {},
   "source": [
    "### Getting Started"
   ]
  },
  {
   "cell_type": "code",
   "execution_count": 157,
   "id": "81f07163",
   "metadata": {},
   "outputs": [],
   "source": [
    "from pandas import json_normalize\n",
    "import json\n",
    "\n",
    "with open('list_buckets.json') as data_file:    \n",
    "    d= json.load(data_file)  \n",
    "\n",
    "df = json_normalize(d, 'bucket_infos')"
   ]
  },
  {
   "cell_type": "markdown",
   "id": "80713d60",
   "metadata": {},
   "source": [
    "### Key points"
   ]
  },
  {
   "cell_type": "code",
   "execution_count": 158,
   "id": "4436e904",
   "metadata": {},
   "outputs": [
    {
     "data": {
      "text/plain": [
       "'1685100888'"
      ]
     },
     "execution_count": 158,
     "metadata": {},
     "output_type": "execute_result"
    }
   ],
   "source": [
    "df['create_at'].max()"
   ]
  },
  {
   "cell_type": "code",
   "execution_count": 159,
   "id": "03fc28a7",
   "metadata": {},
   "outputs": [
    {
     "data": {
      "text/plain": [
       "dict_values(['0x22804504786F44289D4156E7317142e25B92c00e', '1048576'])"
      ]
     },
     "execution_count": 159,
     "metadata": {},
     "output_type": "execute_result"
    }
   ],
   "source": [
    "df['billing_info.secondary_sp_objects_size'][0][0].values()"
   ]
  },
  {
   "cell_type": "code",
   "execution_count": 160,
   "id": "f11ab940",
   "metadata": {},
   "outputs": [
    {
     "data": {
      "text/html": [
       "<div>\n",
       "<style scoped>\n",
       "    .dataframe tbody tr th:only-of-type {\n",
       "        vertical-align: middle;\n",
       "    }\n",
       "\n",
       "    .dataframe tbody tr th {\n",
       "        vertical-align: top;\n",
       "    }\n",
       "\n",
       "    .dataframe thead th {\n",
       "        text-align: right;\n",
       "    }\n",
       "</style>\n",
       "<table border=\"1\" class=\"dataframe\">\n",
       "  <thead>\n",
       "    <tr style=\"text-align: right;\">\n",
       "      <th></th>\n",
       "      <th>owner</th>\n",
       "      <th>bucket_name</th>\n",
       "      <th>visibility</th>\n",
       "      <th>id</th>\n",
       "      <th>source_type</th>\n",
       "      <th>create_at</th>\n",
       "      <th>payment_address</th>\n",
       "      <th>primary_sp_address</th>\n",
       "      <th>charged_read_quota</th>\n",
       "      <th>bucket_status</th>\n",
       "      <th>billing_info.price_time</th>\n",
       "      <th>billing_info.total_charge_size</th>\n",
       "      <th>billing_info.secondary_sp_objects_size</th>\n",
       "    </tr>\n",
       "  </thead>\n",
       "  <tbody>\n",
       "    <tr>\n",
       "      <th>count</th>\n",
       "      <td>100</td>\n",
       "      <td>100</td>\n",
       "      <td>100</td>\n",
       "      <td>100</td>\n",
       "      <td>100</td>\n",
       "      <td>100</td>\n",
       "      <td>100</td>\n",
       "      <td>100</td>\n",
       "      <td>100</td>\n",
       "      <td>100</td>\n",
       "      <td>100</td>\n",
       "      <td>100</td>\n",
       "      <td>100</td>\n",
       "    </tr>\n",
       "    <tr>\n",
       "      <th>unique</th>\n",
       "      <td>68</td>\n",
       "      <td>100</td>\n",
       "      <td>2</td>\n",
       "      <td>100</td>\n",
       "      <td>1</td>\n",
       "      <td>100</td>\n",
       "      <td>68</td>\n",
       "      <td>8</td>\n",
       "      <td>2</td>\n",
       "      <td>1</td>\n",
       "      <td>63</td>\n",
       "      <td>30</td>\n",
       "      <td>40</td>\n",
       "    </tr>\n",
       "    <tr>\n",
       "      <th>top</th>\n",
       "      <td>0x6bbcCa3CA63FBCBB1Cfe7CAd53ef865Ae3684335</td>\n",
       "      <td>testbucket1</td>\n",
       "      <td>VISIBILITY_TYPE_PUBLIC_READ</td>\n",
       "      <td>255</td>\n",
       "      <td>SOURCE_TYPE_ORIGIN</td>\n",
       "      <td>1685100888</td>\n",
       "      <td>0x6bbcCa3CA63FBCBB1Cfe7CAd53ef865Ae3684335</td>\n",
       "      <td>0x22804504786F44289D4156E7317142e25B92c00e</td>\n",
       "      <td>0</td>\n",
       "      <td>BUCKET_STATUS_CREATED</td>\n",
       "      <td>0</td>\n",
       "      <td>0</td>\n",
       "      <td>[]</td>\n",
       "    </tr>\n",
       "    <tr>\n",
       "      <th>freq</th>\n",
       "      <td>9</td>\n",
       "      <td>1</td>\n",
       "      <td>85</td>\n",
       "      <td>1</td>\n",
       "      <td>100</td>\n",
       "      <td>1</td>\n",
       "      <td>9</td>\n",
       "      <td>32</td>\n",
       "      <td>99</td>\n",
       "      <td>100</td>\n",
       "      <td>37</td>\n",
       "      <td>39</td>\n",
       "      <td>39</td>\n",
       "    </tr>\n",
       "  </tbody>\n",
       "</table>\n",
       "</div>"
      ],
      "text/plain": [
       "                                             owner  bucket_name  \\\n",
       "count                                          100          100   \n",
       "unique                                          68          100   \n",
       "top     0x6bbcCa3CA63FBCBB1Cfe7CAd53ef865Ae3684335  testbucket1   \n",
       "freq                                             9            1   \n",
       "\n",
       "                         visibility   id         source_type   create_at  \\\n",
       "count                           100  100                 100         100   \n",
       "unique                            2  100                   1         100   \n",
       "top     VISIBILITY_TYPE_PUBLIC_READ  255  SOURCE_TYPE_ORIGIN  1685100888   \n",
       "freq                             85    1                 100           1   \n",
       "\n",
       "                                   payment_address  \\\n",
       "count                                          100   \n",
       "unique                                          68   \n",
       "top     0x6bbcCa3CA63FBCBB1Cfe7CAd53ef865Ae3684335   \n",
       "freq                                             9   \n",
       "\n",
       "                                primary_sp_address charged_read_quota  \\\n",
       "count                                          100                100   \n",
       "unique                                           8                  2   \n",
       "top     0x22804504786F44289D4156E7317142e25B92c00e                  0   \n",
       "freq                                            32                 99   \n",
       "\n",
       "                bucket_status billing_info.price_time  \\\n",
       "count                     100                     100   \n",
       "unique                      1                      63   \n",
       "top     BUCKET_STATUS_CREATED                       0   \n",
       "freq                      100                      37   \n",
       "\n",
       "       billing_info.total_charge_size billing_info.secondary_sp_objects_size  \n",
       "count                             100                                    100  \n",
       "unique                             30                                     40  \n",
       "top                                 0                                     []  \n",
       "freq                               39                                     39  "
      ]
     },
     "execution_count": 160,
     "metadata": {},
     "output_type": "execute_result"
    }
   ],
   "source": [
    "df.describe()"
   ]
  },
  {
   "cell_type": "markdown",
   "id": "acdd0d10",
   "metadata": {},
   "source": [
    "### Unique names"
   ]
  },
  {
   "cell_type": "code",
   "execution_count": 161,
   "id": "1cbdcd18",
   "metadata": {},
   "outputs": [
    {
     "data": {
      "text/plain": [
       "array(['testbucket1', 'nft', 'alar-akilbekov', 'god', 'yerkeminator',\n",
       "       '0jero1', '0jero0', 'testdauletlox', 'stag', 'asdfgh',\n",
       "       'decentrathon', 'dton', 'guba-n3-dur4', 'leo123',\n",
       "       'liveness-check2-bucket-sp-nodereal',\n",
       "       'liveness-check2-bucket-sp-3', 'liveness-check2-bucket-sp-5',\n",
       "       'liveness-check2-bucket-sp-7', 'liveness-check2-bucket-sp-1',\n",
       "       'liveness-check2-bucket-sp-4', 'liveness-check2-bucket-sp-6',\n",
       "       'liveness-check2-bucket-sp-2', 'undefinedgood', 'ping-pong',\n",
       "       'liveness-check1-bucket-sp-2', '0526test', 'leo-v211',\n",
       "       'liveness-check-bucket-sp-2', 'leo-v2', 'leo-v1', 'hello', 'xxx',\n",
       "       'constbh', 'ux2ny', 'dude', 'sanzhar', 'barry5', 'barry4',\n",
       "       'barry3', 'barry2', 'barry1', 'barry', 'lq1mo', 'talapio', 'a-1',\n",
       "       'aaa-aaa', 'decentrathon-undefined', 'xiechengqi', 'decentrathon1',\n",
       "       'zamzamat', 'test2', 'douyin-xtv4y', 'first', 'nar', 'liuyangc3',\n",
       "       '4everland', 'foreverland', 'kai', 'zkbridge-05', 'zkbridge-04',\n",
       "       'zkbridge-03', 'zkbridge-02', 'zkbridge-01', 'zkbridge-dev-02',\n",
       "       'violin-testttttttt', 'zkbridge-dev-01', 'hoyt-space-01',\n",
       "       'test-1001', 'test111', 'testabc1', 'wenty', 'fynn-test',\n",
       "       'coco-bucket-01', 'goodjob', 'buck', 'syskovvladislav',\n",
       "       'deeptest1', 'bucket-thorax', 'bucket-gadgetron',\n",
       "       'bucket-cogsworth', 'miras', 'vstack-video-cogsworth', 'abc',\n",
       "       'vstack-video-gadgetron', 'wh3-test-1', 'vstack-video', 'temp',\n",
       "       'teachers1', 'teachers', 'fynn', 'test1', 'funbucket',\n",
       "       'richard-test', 'asd', 'test', 'clyde-meng-1', 'sdk-test',\n",
       "       'zjubfd123', 'zjubfd', 'cyber002'], dtype=object)"
      ]
     },
     "execution_count": 161,
     "metadata": {},
     "output_type": "execute_result"
    }
   ],
   "source": [
    "df['bucket_name'].unique()"
   ]
  },
  {
   "cell_type": "code",
   "execution_count": 162,
   "id": "4c490e89",
   "metadata": {},
   "outputs": [
    {
     "data": {
      "text/plain": [
       "array(['VISIBILITY_TYPE_PUBLIC_READ', 'VISIBILITY_TYPE_PRIVATE'],\n",
       "      dtype=object)"
      ]
     },
     "execution_count": 162,
     "metadata": {},
     "output_type": "execute_result"
    }
   ],
   "source": [
    "df['visibility'].unique()"
   ]
  },
  {
   "cell_type": "markdown",
   "id": "70b2232f",
   "metadata": {},
   "source": [
    "### Removing empty data"
   ]
  },
  {
   "cell_type": "code",
   "execution_count": 163,
   "id": "c6ba1188",
   "metadata": {},
   "outputs": [
    {
     "data": {
      "text/html": [
       "<div>\n",
       "<style scoped>\n",
       "    .dataframe tbody tr th:only-of-type {\n",
       "        vertical-align: middle;\n",
       "    }\n",
       "\n",
       "    .dataframe tbody tr th {\n",
       "        vertical-align: top;\n",
       "    }\n",
       "\n",
       "    .dataframe thead th {\n",
       "        text-align: right;\n",
       "    }\n",
       "</style>\n",
       "<table border=\"1\" class=\"dataframe\">\n",
       "  <thead>\n",
       "    <tr style=\"text-align: right;\">\n",
       "      <th></th>\n",
       "      <th>owner</th>\n",
       "      <th>bucket_name</th>\n",
       "      <th>visibility</th>\n",
       "      <th>id</th>\n",
       "      <th>source_type</th>\n",
       "      <th>create_at</th>\n",
       "      <th>payment_address</th>\n",
       "      <th>primary_sp_address</th>\n",
       "      <th>charged_read_quota</th>\n",
       "      <th>bucket_status</th>\n",
       "      <th>billing_info.price_time</th>\n",
       "      <th>billing_info.total_charge_size</th>\n",
       "      <th>billing_info.secondary_sp_objects_size</th>\n",
       "    </tr>\n",
       "  </thead>\n",
       "  <tbody>\n",
       "    <tr>\n",
       "      <th>0</th>\n",
       "      <td>0x2cB686c7e5fDb45F820385F9120bffdC0Acf4E43</td>\n",
       "      <td>testbucket1</td>\n",
       "      <td>VISIBILITY_TYPE_PUBLIC_READ</td>\n",
       "      <td>255</td>\n",
       "      <td>SOURCE_TYPE_ORIGIN</td>\n",
       "      <td>1685100888</td>\n",
       "      <td>0x2cB686c7e5fDb45F820385F9120bffdC0Acf4E43</td>\n",
       "      <td>0xE42B5AD90AfF1e8Ad90F76e02541A71Ca9D41A11</td>\n",
       "      <td>0</td>\n",
       "      <td>BUCKET_STATUS_CREATED</td>\n",
       "      <td>1685101106</td>\n",
       "      <td>1048576</td>\n",
       "      <td>[{'sp_address': '0x22804504786F44289D4156E7317...</td>\n",
       "    </tr>\n",
       "    <tr>\n",
       "      <th>2</th>\n",
       "      <td>0xD843bD194A74B5ecb29048d870F76aBd119b0caA</td>\n",
       "      <td>alar-akilbekov</td>\n",
       "      <td>VISIBILITY_TYPE_PUBLIC_READ</td>\n",
       "      <td>253</td>\n",
       "      <td>SOURCE_TYPE_ORIGIN</td>\n",
       "      <td>1685100589</td>\n",
       "      <td>0xD843bD194A74B5ecb29048d870F76aBd119b0caA</td>\n",
       "      <td>0x5E340C0721bD5f49627e7E34eb94bedfA575E993</td>\n",
       "      <td>0</td>\n",
       "      <td>BUCKET_STATUS_CREATED</td>\n",
       "      <td>1685100664</td>\n",
       "      <td>1048576</td>\n",
       "      <td>[{'sp_address': '0x22804504786F44289D4156E7317...</td>\n",
       "    </tr>\n",
       "    <tr>\n",
       "      <th>4</th>\n",
       "      <td>0xaA1C52766397fB717742DE0D9354Dc685098752d</td>\n",
       "      <td>yerkeminator</td>\n",
       "      <td>VISIBILITY_TYPE_PUBLIC_READ</td>\n",
       "      <td>251</td>\n",
       "      <td>SOURCE_TYPE_ORIGIN</td>\n",
       "      <td>1685099713</td>\n",
       "      <td>0xaA1C52766397fB717742DE0D9354Dc685098752d</td>\n",
       "      <td>0xB573F5c174f33aF0CA033c8A287061C1538fb130</td>\n",
       "      <td>0</td>\n",
       "      <td>BUCKET_STATUS_CREATED</td>\n",
       "      <td>1685181904</td>\n",
       "      <td>3145728</td>\n",
       "      <td>[{'sp_address': '0x22804504786F44289D4156E7317...</td>\n",
       "    </tr>\n",
       "    <tr>\n",
       "      <th>5</th>\n",
       "      <td>0x82f261D6F598850A3BE5a964b2083343085F3DbE</td>\n",
       "      <td>0jero1</td>\n",
       "      <td>VISIBILITY_TYPE_PUBLIC_READ</td>\n",
       "      <td>250</td>\n",
       "      <td>SOURCE_TYPE_ORIGIN</td>\n",
       "      <td>1685098817</td>\n",
       "      <td>0x82f261D6F598850A3BE5a964b2083343085F3DbE</td>\n",
       "      <td>0xB573F5c174f33aF0CA033c8A287061C1538fb130</td>\n",
       "      <td>0</td>\n",
       "      <td>BUCKET_STATUS_CREATED</td>\n",
       "      <td>1685101417</td>\n",
       "      <td>12588089</td>\n",
       "      <td>[{'sp_address': '0x22804504786F44289D4156E7317...</td>\n",
       "    </tr>\n",
       "    <tr>\n",
       "      <th>6</th>\n",
       "      <td>0x82f261D6F598850A3BE5a964b2083343085F3DbE</td>\n",
       "      <td>0jero0</td>\n",
       "      <td>VISIBILITY_TYPE_PUBLIC_READ</td>\n",
       "      <td>249</td>\n",
       "      <td>SOURCE_TYPE_ORIGIN</td>\n",
       "      <td>1685098743</td>\n",
       "      <td>0x82f261D6F598850A3BE5a964b2083343085F3DbE</td>\n",
       "      <td>0xC6fA3F3640e3b594335efAb349abdD4A82C83736</td>\n",
       "      <td>0</td>\n",
       "      <td>BUCKET_STATUS_CREATED</td>\n",
       "      <td>1685101179</td>\n",
       "      <td>2586742</td>\n",
       "      <td>[{'sp_address': '0x22804504786F44289D4156E7317...</td>\n",
       "    </tr>\n",
       "    <tr>\n",
       "      <th>...</th>\n",
       "      <td>...</td>\n",
       "      <td>...</td>\n",
       "      <td>...</td>\n",
       "      <td>...</td>\n",
       "      <td>...</td>\n",
       "      <td>...</td>\n",
       "      <td>...</td>\n",
       "      <td>...</td>\n",
       "      <td>...</td>\n",
       "      <td>...</td>\n",
       "      <td>...</td>\n",
       "      <td>...</td>\n",
       "      <td>...</td>\n",
       "    </tr>\n",
       "    <tr>\n",
       "      <th>91</th>\n",
       "      <td>0xf39Fd6e51aad88F6F4ce6aB8827279cffFb92266</td>\n",
       "      <td>funbucket</td>\n",
       "      <td>VISIBILITY_TYPE_PRIVATE</td>\n",
       "      <td>140</td>\n",
       "      <td>SOURCE_TYPE_ORIGIN</td>\n",
       "      <td>1685017845</td>\n",
       "      <td>0xf39Fd6e51aad88F6F4ce6aB8827279cffFb92266</td>\n",
       "      <td>0x22804504786F44289D4156E7317142e25B92c00e</td>\n",
       "      <td>0</td>\n",
       "      <td>BUCKET_STATUS_CREATED</td>\n",
       "      <td>1685017901</td>\n",
       "      <td>1048576</td>\n",
       "      <td>[{'sp_address': '0x3CFC8b2095DA8F0722412Dc16f8...</td>\n",
       "    </tr>\n",
       "    <tr>\n",
       "      <th>92</th>\n",
       "      <td>0xd6327dAec1Eea7f1F4c61323DF3a7CCC261c5743</td>\n",
       "      <td>richard-test</td>\n",
       "      <td>VISIBILITY_TYPE_PUBLIC_READ</td>\n",
       "      <td>139</td>\n",
       "      <td>SOURCE_TYPE_ORIGIN</td>\n",
       "      <td>1685015714</td>\n",
       "      <td>0xd6327dAec1Eea7f1F4c61323DF3a7CCC261c5743</td>\n",
       "      <td>0x7715d0680fE84cA6d7eaEF6e8A7CAcE29a4C0064</td>\n",
       "      <td>0</td>\n",
       "      <td>BUCKET_STATUS_CREATED</td>\n",
       "      <td>1685016680</td>\n",
       "      <td>167346020</td>\n",
       "      <td>[{'sp_address': '0x22804504786F44289D4156E7317...</td>\n",
       "    </tr>\n",
       "    <tr>\n",
       "      <th>95</th>\n",
       "      <td>0x822724fA7572c69d3B3509C8aeB4F0dDa775C62D</td>\n",
       "      <td>clyde-meng-1</td>\n",
       "      <td>VISIBILITY_TYPE_PUBLIC_READ</td>\n",
       "      <td>136</td>\n",
       "      <td>SOURCE_TYPE_ORIGIN</td>\n",
       "      <td>1685011705</td>\n",
       "      <td>0x822724fA7572c69d3B3509C8aeB4F0dDa775C62D</td>\n",
       "      <td>0x3CFC8b2095DA8F0722412Dc16f8A067942d2c697</td>\n",
       "      <td>0</td>\n",
       "      <td>BUCKET_STATUS_CREATED</td>\n",
       "      <td>1685013421</td>\n",
       "      <td>2097152</td>\n",
       "      <td>[{'sp_address': '0x22804504786F44289D4156E7317...</td>\n",
       "    </tr>\n",
       "    <tr>\n",
       "      <th>96</th>\n",
       "      <td>0xA088eFA11C091007cbc08463cDCad3786Dc4870E</td>\n",
       "      <td>sdk-test</td>\n",
       "      <td>VISIBILITY_TYPE_PUBLIC_READ</td>\n",
       "      <td>134</td>\n",
       "      <td>SOURCE_TYPE_ORIGIN</td>\n",
       "      <td>1685011544</td>\n",
       "      <td>0xA088eFA11C091007cbc08463cDCad3786Dc4870E</td>\n",
       "      <td>0x22804504786F44289D4156E7317142e25B92c00e</td>\n",
       "      <td>0</td>\n",
       "      <td>BUCKET_STATUS_CREATED</td>\n",
       "      <td>1685013453</td>\n",
       "      <td>2097152</td>\n",
       "      <td>[{'sp_address': '0x3CFC8b2095DA8F0722412Dc16f8...</td>\n",
       "    </tr>\n",
       "    <tr>\n",
       "      <th>98</th>\n",
       "      <td>0x92577487c2C6dB5090967064c6B6c7f3328d38cA</td>\n",
       "      <td>zjubfd</td>\n",
       "      <td>VISIBILITY_TYPE_PUBLIC_READ</td>\n",
       "      <td>132</td>\n",
       "      <td>SOURCE_TYPE_ORIGIN</td>\n",
       "      <td>1685011277</td>\n",
       "      <td>0x92577487c2C6dB5090967064c6B6c7f3328d38cA</td>\n",
       "      <td>0x7715d0680fE84cA6d7eaEF6e8A7CAcE29a4C0064</td>\n",
       "      <td>0</td>\n",
       "      <td>BUCKET_STATUS_CREATED</td>\n",
       "      <td>1685011327</td>\n",
       "      <td>2078679</td>\n",
       "      <td>[{'sp_address': '0x22804504786F44289D4156E7317...</td>\n",
       "    </tr>\n",
       "  </tbody>\n",
       "</table>\n",
       "<p>63 rows × 13 columns</p>\n",
       "</div>"
      ],
      "text/plain": [
       "                                         owner     bucket_name  \\\n",
       "0   0x2cB686c7e5fDb45F820385F9120bffdC0Acf4E43     testbucket1   \n",
       "2   0xD843bD194A74B5ecb29048d870F76aBd119b0caA  alar-akilbekov   \n",
       "4   0xaA1C52766397fB717742DE0D9354Dc685098752d    yerkeminator   \n",
       "5   0x82f261D6F598850A3BE5a964b2083343085F3DbE          0jero1   \n",
       "6   0x82f261D6F598850A3BE5a964b2083343085F3DbE          0jero0   \n",
       "..                                         ...             ...   \n",
       "91  0xf39Fd6e51aad88F6F4ce6aB8827279cffFb92266       funbucket   \n",
       "92  0xd6327dAec1Eea7f1F4c61323DF3a7CCC261c5743    richard-test   \n",
       "95  0x822724fA7572c69d3B3509C8aeB4F0dDa775C62D    clyde-meng-1   \n",
       "96  0xA088eFA11C091007cbc08463cDCad3786Dc4870E        sdk-test   \n",
       "98  0x92577487c2C6dB5090967064c6B6c7f3328d38cA          zjubfd   \n",
       "\n",
       "                     visibility   id         source_type   create_at  \\\n",
       "0   VISIBILITY_TYPE_PUBLIC_READ  255  SOURCE_TYPE_ORIGIN  1685100888   \n",
       "2   VISIBILITY_TYPE_PUBLIC_READ  253  SOURCE_TYPE_ORIGIN  1685100589   \n",
       "4   VISIBILITY_TYPE_PUBLIC_READ  251  SOURCE_TYPE_ORIGIN  1685099713   \n",
       "5   VISIBILITY_TYPE_PUBLIC_READ  250  SOURCE_TYPE_ORIGIN  1685098817   \n",
       "6   VISIBILITY_TYPE_PUBLIC_READ  249  SOURCE_TYPE_ORIGIN  1685098743   \n",
       "..                          ...  ...                 ...         ...   \n",
       "91      VISIBILITY_TYPE_PRIVATE  140  SOURCE_TYPE_ORIGIN  1685017845   \n",
       "92  VISIBILITY_TYPE_PUBLIC_READ  139  SOURCE_TYPE_ORIGIN  1685015714   \n",
       "95  VISIBILITY_TYPE_PUBLIC_READ  136  SOURCE_TYPE_ORIGIN  1685011705   \n",
       "96  VISIBILITY_TYPE_PUBLIC_READ  134  SOURCE_TYPE_ORIGIN  1685011544   \n",
       "98  VISIBILITY_TYPE_PUBLIC_READ  132  SOURCE_TYPE_ORIGIN  1685011277   \n",
       "\n",
       "                               payment_address  \\\n",
       "0   0x2cB686c7e5fDb45F820385F9120bffdC0Acf4E43   \n",
       "2   0xD843bD194A74B5ecb29048d870F76aBd119b0caA   \n",
       "4   0xaA1C52766397fB717742DE0D9354Dc685098752d   \n",
       "5   0x82f261D6F598850A3BE5a964b2083343085F3DbE   \n",
       "6   0x82f261D6F598850A3BE5a964b2083343085F3DbE   \n",
       "..                                         ...   \n",
       "91  0xf39Fd6e51aad88F6F4ce6aB8827279cffFb92266   \n",
       "92  0xd6327dAec1Eea7f1F4c61323DF3a7CCC261c5743   \n",
       "95  0x822724fA7572c69d3B3509C8aeB4F0dDa775C62D   \n",
       "96  0xA088eFA11C091007cbc08463cDCad3786Dc4870E   \n",
       "98  0x92577487c2C6dB5090967064c6B6c7f3328d38cA   \n",
       "\n",
       "                            primary_sp_address charged_read_quota  \\\n",
       "0   0xE42B5AD90AfF1e8Ad90F76e02541A71Ca9D41A11                  0   \n",
       "2   0x5E340C0721bD5f49627e7E34eb94bedfA575E993                  0   \n",
       "4   0xB573F5c174f33aF0CA033c8A287061C1538fb130                  0   \n",
       "5   0xB573F5c174f33aF0CA033c8A287061C1538fb130                  0   \n",
       "6   0xC6fA3F3640e3b594335efAb349abdD4A82C83736                  0   \n",
       "..                                         ...                ...   \n",
       "91  0x22804504786F44289D4156E7317142e25B92c00e                  0   \n",
       "92  0x7715d0680fE84cA6d7eaEF6e8A7CAcE29a4C0064                  0   \n",
       "95  0x3CFC8b2095DA8F0722412Dc16f8A067942d2c697                  0   \n",
       "96  0x22804504786F44289D4156E7317142e25B92c00e                  0   \n",
       "98  0x7715d0680fE84cA6d7eaEF6e8A7CAcE29a4C0064                  0   \n",
       "\n",
       "            bucket_status billing_info.price_time  \\\n",
       "0   BUCKET_STATUS_CREATED              1685101106   \n",
       "2   BUCKET_STATUS_CREATED              1685100664   \n",
       "4   BUCKET_STATUS_CREATED              1685181904   \n",
       "5   BUCKET_STATUS_CREATED              1685101417   \n",
       "6   BUCKET_STATUS_CREATED              1685101179   \n",
       "..                    ...                     ...   \n",
       "91  BUCKET_STATUS_CREATED              1685017901   \n",
       "92  BUCKET_STATUS_CREATED              1685016680   \n",
       "95  BUCKET_STATUS_CREATED              1685013421   \n",
       "96  BUCKET_STATUS_CREATED              1685013453   \n",
       "98  BUCKET_STATUS_CREATED              1685011327   \n",
       "\n",
       "   billing_info.total_charge_size  \\\n",
       "0                         1048576   \n",
       "2                         1048576   \n",
       "4                         3145728   \n",
       "5                        12588089   \n",
       "6                         2586742   \n",
       "..                            ...   \n",
       "91                        1048576   \n",
       "92                      167346020   \n",
       "95                        2097152   \n",
       "96                        2097152   \n",
       "98                        2078679   \n",
       "\n",
       "               billing_info.secondary_sp_objects_size  \n",
       "0   [{'sp_address': '0x22804504786F44289D4156E7317...  \n",
       "2   [{'sp_address': '0x22804504786F44289D4156E7317...  \n",
       "4   [{'sp_address': '0x22804504786F44289D4156E7317...  \n",
       "5   [{'sp_address': '0x22804504786F44289D4156E7317...  \n",
       "6   [{'sp_address': '0x22804504786F44289D4156E7317...  \n",
       "..                                                ...  \n",
       "91  [{'sp_address': '0x3CFC8b2095DA8F0722412Dc16f8...  \n",
       "92  [{'sp_address': '0x22804504786F44289D4156E7317...  \n",
       "95  [{'sp_address': '0x22804504786F44289D4156E7317...  \n",
       "96  [{'sp_address': '0x3CFC8b2095DA8F0722412Dc16f8...  \n",
       "98  [{'sp_address': '0x22804504786F44289D4156E7317...  \n",
       "\n",
       "[63 rows x 13 columns]"
      ]
     },
     "execution_count": 163,
     "metadata": {},
     "output_type": "execute_result"
    }
   ],
   "source": [
    "df[df['billing_info.price_time']!='0']"
   ]
  },
  {
   "cell_type": "markdown",
   "id": "eca530b7",
   "metadata": {},
   "source": [
    "### Gaining only numerical values"
   ]
  },
  {
   "cell_type": "code",
   "execution_count": 164,
   "id": "09fa0984",
   "metadata": {},
   "outputs": [
    {
     "data": {
      "text/html": [
       "<div>\n",
       "<style scoped>\n",
       "    .dataframe tbody tr th:only-of-type {\n",
       "        vertical-align: middle;\n",
       "    }\n",
       "\n",
       "    .dataframe tbody tr th {\n",
       "        vertical-align: top;\n",
       "    }\n",
       "\n",
       "    .dataframe thead th {\n",
       "        text-align: right;\n",
       "    }\n",
       "</style>\n",
       "<table border=\"1\" class=\"dataframe\">\n",
       "  <thead>\n",
       "    <tr style=\"text-align: right;\">\n",
       "      <th></th>\n",
       "      <th>bucket_name</th>\n",
       "      <th>create_at</th>\n",
       "      <th>billing_info.price_time</th>\n",
       "      <th>billing_info.total_charge_size</th>\n",
       "    </tr>\n",
       "  </thead>\n",
       "  <tbody>\n",
       "    <tr>\n",
       "      <th>0</th>\n",
       "      <td>testbucket1</td>\n",
       "      <td>1685100888</td>\n",
       "      <td>1685101106</td>\n",
       "      <td>1048576</td>\n",
       "    </tr>\n",
       "    <tr>\n",
       "      <th>2</th>\n",
       "      <td>alar-akilbekov</td>\n",
       "      <td>1685100589</td>\n",
       "      <td>1685100664</td>\n",
       "      <td>1048576</td>\n",
       "    </tr>\n",
       "    <tr>\n",
       "      <th>4</th>\n",
       "      <td>yerkeminator</td>\n",
       "      <td>1685099713</td>\n",
       "      <td>1685181904</td>\n",
       "      <td>3145728</td>\n",
       "    </tr>\n",
       "    <tr>\n",
       "      <th>5</th>\n",
       "      <td>0jero1</td>\n",
       "      <td>1685098817</td>\n",
       "      <td>1685101417</td>\n",
       "      <td>12588089</td>\n",
       "    </tr>\n",
       "    <tr>\n",
       "      <th>6</th>\n",
       "      <td>0jero0</td>\n",
       "      <td>1685098743</td>\n",
       "      <td>1685101179</td>\n",
       "      <td>2586742</td>\n",
       "    </tr>\n",
       "    <tr>\n",
       "      <th>...</th>\n",
       "      <td>...</td>\n",
       "      <td>...</td>\n",
       "      <td>...</td>\n",
       "      <td>...</td>\n",
       "    </tr>\n",
       "    <tr>\n",
       "      <th>91</th>\n",
       "      <td>funbucket</td>\n",
       "      <td>1685017845</td>\n",
       "      <td>1685017901</td>\n",
       "      <td>1048576</td>\n",
       "    </tr>\n",
       "    <tr>\n",
       "      <th>92</th>\n",
       "      <td>richard-test</td>\n",
       "      <td>1685015714</td>\n",
       "      <td>1685016680</td>\n",
       "      <td>167346020</td>\n",
       "    </tr>\n",
       "    <tr>\n",
       "      <th>95</th>\n",
       "      <td>clyde-meng-1</td>\n",
       "      <td>1685011705</td>\n",
       "      <td>1685013421</td>\n",
       "      <td>2097152</td>\n",
       "    </tr>\n",
       "    <tr>\n",
       "      <th>96</th>\n",
       "      <td>sdk-test</td>\n",
       "      <td>1685011544</td>\n",
       "      <td>1685013453</td>\n",
       "      <td>2097152</td>\n",
       "    </tr>\n",
       "    <tr>\n",
       "      <th>98</th>\n",
       "      <td>zjubfd</td>\n",
       "      <td>1685011277</td>\n",
       "      <td>1685011327</td>\n",
       "      <td>2078679</td>\n",
       "    </tr>\n",
       "  </tbody>\n",
       "</table>\n",
       "<p>63 rows × 4 columns</p>\n",
       "</div>"
      ],
      "text/plain": [
       "       bucket_name   create_at billing_info.price_time  \\\n",
       "0      testbucket1  1685100888              1685101106   \n",
       "2   alar-akilbekov  1685100589              1685100664   \n",
       "4     yerkeminator  1685099713              1685181904   \n",
       "5           0jero1  1685098817              1685101417   \n",
       "6           0jero0  1685098743              1685101179   \n",
       "..             ...         ...                     ...   \n",
       "91       funbucket  1685017845              1685017901   \n",
       "92    richard-test  1685015714              1685016680   \n",
       "95    clyde-meng-1  1685011705              1685013421   \n",
       "96        sdk-test  1685011544              1685013453   \n",
       "98          zjubfd  1685011277              1685011327   \n",
       "\n",
       "   billing_info.total_charge_size  \n",
       "0                         1048576  \n",
       "2                         1048576  \n",
       "4                         3145728  \n",
       "5                        12588089  \n",
       "6                         2586742  \n",
       "..                            ...  \n",
       "91                        1048576  \n",
       "92                      167346020  \n",
       "95                        2097152  \n",
       "96                        2097152  \n",
       "98                        2078679  \n",
       "\n",
       "[63 rows x 4 columns]"
      ]
     },
     "execution_count": 164,
     "metadata": {},
     "output_type": "execute_result"
    }
   ],
   "source": [
    "columns = ['bucket_name', 'create_at', 'billing_info.price_time', 'billing_info.total_charge_size']\n",
    "df = df[columns]\n",
    "df = df[df['billing_info.price_time']!='0']\n",
    "df"
   ]
  },
  {
   "cell_type": "code",
   "execution_count": 165,
   "id": "873def34",
   "metadata": {},
   "outputs": [
    {
     "data": {
      "text/plain": [
       "Timestamp('1970-01-01 00:00:01.685100888')"
      ]
     },
     "execution_count": 165,
     "metadata": {},
     "output_type": "execute_result"
    }
   ],
   "source": [
    "import pandas as pd\n",
    "pd.to_datetime(1685100888)"
   ]
  },
  {
   "cell_type": "code",
   "execution_count": 166,
   "id": "b4352ea2",
   "metadata": {},
   "outputs": [
    {
     "data": {
      "text/plain": [
       "Timestamp('1970-01-01 00:00:01.685011327')"
      ]
     },
     "execution_count": 166,
     "metadata": {},
     "output_type": "execute_result"
    }
   ],
   "source": [
    "pd.to_datetime(1685011327)"
   ]
  },
  {
   "cell_type": "code",
   "execution_count": 167,
   "id": "32465344",
   "metadata": {},
   "outputs": [],
   "source": [
    "df = df[df['billing_info.total_charge_size']!='0']"
   ]
  },
  {
   "cell_type": "markdown",
   "id": "c74ceac4",
   "metadata": {},
   "source": [
    "### Obtaining charge sizes that are in bits"
   ]
  },
  {
   "cell_type": "code",
   "execution_count": 168,
   "id": "6d5dbd54",
   "metadata": {},
   "outputs": [],
   "source": [
    "x = df['bucket_name'].to_list()\n",
    "y = df['billing_info.total_charge_size'].to_list()\n",
    "y = [int(i) for i in y]"
   ]
  },
  {
   "cell_type": "code",
   "execution_count": 169,
   "id": "5268fa59",
   "metadata": {},
   "outputs": [
    {
     "data": {
      "text/plain": [
       "Text(0.5, 0, 'Размеры в битах')"
      ]
     },
     "execution_count": 169,
     "metadata": {},
     "output_type": "execute_result"
    },
    {
     "data": {
      "image/png": "[encoded data removed]",
      "text/plain": [
       "<Figure size 432x288 with 1 Axes>"
      ]
     },
     "metadata": {
      "needs_background": "light"
     },
     "output_type": "display_data"
    }
   ],
   "source": [
    "import matplotlib.pyplot as plt\n",
    "import numpy as np\n",
    "plt.scatter(range(len(y)), np.log(y))\n",
    "plt.xlabel(\"Размеры в битах\")"
   ]
  },
  {
   "cell_type": "markdown",
   "id": "d2e568cc",
   "metadata": {},
   "source": [
    "### Turning bits into gigabytes"
   ]
  },
  {
   "cell_type": "code",
   "execution_count": 172,
   "id": "409968af",
   "metadata": {},
   "outputs": [
    {
     "name": "stdout",
     "output_type": "stream",
     "text": [
      "[0.0001220703125, 0.0001220703125, 0.0003662109375, 0.001465446432121098, 0.000301136402413249, 0.0001220703125, 0.0006546700606122613, 0.0001220703125, 0.0001220703125, 0.049072265625, 0.0001220703125, 0.0001220703125, 0.0001220703125, 0.0001220703125, 0.16821313521359116, 0.0001220703125, 0.0001220703125, 0.000244140625, 0.0001220703125, 0.0001220703125, 0.0001220703125, 0.0001220703125, 0.41821313521359116, 0.000244140625, 0.0001220703125, 0.0001220703125, 0.0014461728278547525, 0.0026382405776530504, 0.0003662109375, 0.0001220703125, 0.005948087316937745, 0.0005589425563812256, 0.0001220703125, 0.541015625, 0.54443359375, 0.5416259765625, 0.5401611328125, 0.5413818359375, 0.0008544921875, 0.0001220703125, 0.0008544921875, 0.004744146368466318, 0.0001220703125, 0.000244140625, 0.001275818794965744, 0.0001220703125, 0.0001220703125, 0.0020614243112504482, 0.0001220703125, 0.049227906740270555, 0.00027481350116431713, 0.0003662109375, 0.000244140625, 0.0004720105789601803, 0.0003499402664601803, 0.0015986483776941895, 0.0001220703125, 0.01948164077475667, 0.000244140625, 0.000244140625, 0.00024199008475989103]\n"
     ]
    }
   ],
   "source": [
    "y = [i/1048576/1024/8 for i in y]\n",
    "print(y)"
   ]
  },
  {
   "cell_type": "code",
   "execution_count": 173,
   "id": "576d84bb",
   "metadata": {},
   "outputs": [
    {
     "name": "stderr",
     "output_type": "stream",
     "text": [
      "<ipython-input-173-6bfdb31eb2f4>:1: SettingWithCopyWarning: \n",
      "A value is trying to be set on a copy of a slice from a DataFrame.\n",
      "Try using .loc[row_indexer,col_indexer] = value instead\n",
      "\n",
      "See the caveats in the documentation: https://pandas.pydata.org/pandas-docs/stable/user_guide/indexing.html#returning-a-view-versus-a-copy\n",
      "  df['GB'] = y\n"
     ]
    }
   ],
   "source": [
    "df['GB'] = y"
   ]
  },
  {
   "cell_type": "code",
   "execution_count": 174,
   "id": "9d15d2d0",
   "metadata": {},
   "outputs": [
    {
     "data": {
      "text/html": [
       "<div>\n",
       "<style scoped>\n",
       "    .dataframe tbody tr th:only-of-type {\n",
       "        vertical-align: middle;\n",
       "    }\n",
       "\n",
       "    .dataframe tbody tr th {\n",
       "        vertical-align: top;\n",
       "    }\n",
       "\n",
       "    .dataframe thead th {\n",
       "        text-align: right;\n",
       "    }\n",
       "</style>\n",
       "<table border=\"1\" class=\"dataframe\">\n",
       "  <thead>\n",
       "    <tr style=\"text-align: right;\">\n",
       "      <th></th>\n",
       "      <th>bucket_name</th>\n",
       "      <th>create_at</th>\n",
       "      <th>price_time</th>\n",
       "      <th>total_charge_size_bits</th>\n",
       "      <th>total_size_gb</th>\n",
       "    </tr>\n",
       "  </thead>\n",
       "  <tbody>\n",
       "    <tr>\n",
       "      <th>0</th>\n",
       "      <td>testbucket1</td>\n",
       "      <td>1685100888</td>\n",
       "      <td>1685101106</td>\n",
       "      <td>1048576</td>\n",
       "      <td>0.000122</td>\n",
       "    </tr>\n",
       "    <tr>\n",
       "      <th>2</th>\n",
       "      <td>alar-akilbekov</td>\n",
       "      <td>1685100589</td>\n",
       "      <td>1685100664</td>\n",
       "      <td>1048576</td>\n",
       "      <td>0.000122</td>\n",
       "    </tr>\n",
       "    <tr>\n",
       "      <th>4</th>\n",
       "      <td>yerkeminator</td>\n",
       "      <td>1685099713</td>\n",
       "      <td>1685181904</td>\n",
       "      <td>3145728</td>\n",
       "      <td>0.000366</td>\n",
       "    </tr>\n",
       "    <tr>\n",
       "      <th>5</th>\n",
       "      <td>0jero1</td>\n",
       "      <td>1685098817</td>\n",
       "      <td>1685101417</td>\n",
       "      <td>12588089</td>\n",
       "      <td>0.001465</td>\n",
       "    </tr>\n",
       "    <tr>\n",
       "      <th>6</th>\n",
       "      <td>0jero0</td>\n",
       "      <td>1685098743</td>\n",
       "      <td>1685101179</td>\n",
       "      <td>2586742</td>\n",
       "      <td>0.000301</td>\n",
       "    </tr>\n",
       "    <tr>\n",
       "      <th>...</th>\n",
       "      <td>...</td>\n",
       "      <td>...</td>\n",
       "      <td>...</td>\n",
       "      <td>...</td>\n",
       "      <td>...</td>\n",
       "    </tr>\n",
       "    <tr>\n",
       "      <th>91</th>\n",
       "      <td>funbucket</td>\n",
       "      <td>1685017845</td>\n",
       "      <td>1685017901</td>\n",
       "      <td>1048576</td>\n",
       "      <td>0.000122</td>\n",
       "    </tr>\n",
       "    <tr>\n",
       "      <th>92</th>\n",
       "      <td>richard-test</td>\n",
       "      <td>1685015714</td>\n",
       "      <td>1685016680</td>\n",
       "      <td>167346020</td>\n",
       "      <td>0.019482</td>\n",
       "    </tr>\n",
       "    <tr>\n",
       "      <th>95</th>\n",
       "      <td>clyde-meng-1</td>\n",
       "      <td>1685011705</td>\n",
       "      <td>1685013421</td>\n",
       "      <td>2097152</td>\n",
       "      <td>0.000244</td>\n",
       "    </tr>\n",
       "    <tr>\n",
       "      <th>96</th>\n",
       "      <td>sdk-test</td>\n",
       "      <td>1685011544</td>\n",
       "      <td>1685013453</td>\n",
       "      <td>2097152</td>\n",
       "      <td>0.000244</td>\n",
       "    </tr>\n",
       "    <tr>\n",
       "      <th>98</th>\n",
       "      <td>zjubfd</td>\n",
       "      <td>1685011277</td>\n",
       "      <td>1685011327</td>\n",
       "      <td>2078679</td>\n",
       "      <td>0.000242</td>\n",
       "    </tr>\n",
       "  </tbody>\n",
       "</table>\n",
       "<p>61 rows × 5 columns</p>\n",
       "</div>"
      ],
      "text/plain": [
       "       bucket_name   create_at  price_time total_charge_size_bits  \\\n",
       "0      testbucket1  1685100888  1685101106                1048576   \n",
       "2   alar-akilbekov  1685100589  1685100664                1048576   \n",
       "4     yerkeminator  1685099713  1685181904                3145728   \n",
       "5           0jero1  1685098817  1685101417               12588089   \n",
       "6           0jero0  1685098743  1685101179                2586742   \n",
       "..             ...         ...         ...                    ...   \n",
       "91       funbucket  1685017845  1685017901                1048576   \n",
       "92    richard-test  1685015714  1685016680              167346020   \n",
       "95    clyde-meng-1  1685011705  1685013421                2097152   \n",
       "96        sdk-test  1685011544  1685013453                2097152   \n",
       "98          zjubfd  1685011277  1685011327                2078679   \n",
       "\n",
       "    total_size_gb  \n",
       "0        0.000122  \n",
       "2        0.000122  \n",
       "4        0.000366  \n",
       "5        0.001465  \n",
       "6        0.000301  \n",
       "..            ...  \n",
       "91       0.000122  \n",
       "92       0.019482  \n",
       "95       0.000244  \n",
       "96       0.000244  \n",
       "98       0.000242  \n",
       "\n",
       "[61 rows x 5 columns]"
      ]
     },
     "execution_count": 174,
     "metadata": {},
     "output_type": "execute_result"
    }
   ],
   "source": [
    "df.columns = ['bucket_name','create_at', 'price_time', 'total_charge_size_bits', 'total_size_gb']\n",
    "df"
   ]
  },
  {
   "cell_type": "code",
   "execution_count": 175,
   "id": "5c866186",
   "metadata": {},
   "outputs": [
    {
     "data": {
      "text/plain": [
       "Text(0, 0.5, 'Размеры в мегабайтах')"
      ]
     },
     "execution_count": 175,
     "metadata": {},
     "output_type": "execute_result"
    },
    {
     "data": {
      "image/png": "[encoded data removed]",
      "text/plain": [
       "<Figure size 432x288 with 1 Axes>"
      ]
     },
     "metadata": {
      "needs_background": "light"
     },
     "output_type": "display_data"
    }
   ],
   "source": [
    "import matplotlib.pyplot as plt\n",
    "import numpy as np\n",
    "plt.scatter(range(len(y)), y)\n",
    "plt.ylabel(\"Размеры в мегабайтах\")"
   ]
  },
  {
   "cell_type": "code",
   "execution_count": 17,
   "id": "650fbdcf",
   "metadata": {},
   "outputs": [
    {
     "data": {
      "text/plain": [
       "3.444181954837404"
      ]
     },
     "execution_count": 17,
     "metadata": {},
     "output_type": "execute_result"
    }
   ],
   "source": [
    "sum(y)"
   ]
  },
  {
   "cell_type": "markdown",
   "id": "d08a7b19",
   "metadata": {},
   "source": [
    "### Removing insignificant charge sizes"
   ]
  },
  {
   "cell_type": "code",
   "execution_count": 53,
   "id": "5e3b6c3a",
   "metadata": {},
   "outputs": [
    {
     "data": {
      "text/plain": [
       "[0.049072265625,\n",
       " 0.16821313521359116,\n",
       " 0.41821313521359116,\n",
       " 0.005948087316937745,\n",
       " 0.541015625,\n",
       " 0.54443359375,\n",
       " 0.5416259765625,\n",
       " 0.5401611328125,\n",
       " 0.5413818359375,\n",
       " 0.049227906740270555,\n",
       " 0.01948164077475667]"
      ]
     },
     "execution_count": 53,
     "metadata": {},
     "output_type": "execute_result"
    }
   ],
   "source": [
    "y = [i for i in y if i > 0.005]\n",
    "y"
   ]
  },
  {
   "cell_type": "code",
   "execution_count": 176,
   "id": "c29cad9d",
   "metadata": {},
   "outputs": [
    {
     "data": {
      "image/png": "[encoded data removed]",
      "text/plain": [
       "<Figure size 432x288 with 1 Axes>"
      ]
     },
     "metadata": {
      "needs_background": "light"
     },
     "output_type": "display_data"
    },
    {
     "data": {
      "text/plain": [
       "<Figure size 432x288 with 0 Axes>"
      ]
     },
     "metadata": {},
     "output_type": "display_data"
    }
   ],
   "source": [
    "import matplotlib.pyplot as plt\n",
    "import matplotlib as mpl\n",
    "import numpy as np\n",
    "plt.scatter(range(len(y)), y, c='#6FFDB2')\n",
    "plt.ylabel(\"Size in GB\")\n",
    "plt.xlabel(\"user_id\")\n",
    "plt.title(\"The total size of the charges vs user ids\")\n",
    "ax = plt.gca()\n",
    "fig = plt.figure() \n",
    "\n",
    "# ax.set_facecolor('black')\n",
    "# mpl.rcParams.update({'text.color' : \"#E6E8EA\",\n",
    "#                      'axes.labelcolor' : \"#E6E8EA\"})"
   ]
  },
  {
   "cell_type": "markdown",
   "id": "1b0e5bcc",
   "metadata": {},
   "source": [
    "### Creating Linear Regression Model"
   ]
  },
  {
   "cell_type": "code",
   "execution_count": 61,
   "id": "c833532b",
   "metadata": {},
   "outputs": [
    {
     "name": "stdout",
     "output_type": "stream",
     "text": [
      "Predicted values: [0.68421475 0.75824351 0.83227226]\n"
     ]
    }
   ],
   "source": [
    "# Importing the necessary libraries\n",
    "import numpy as np\n",
    "from sklearn.linear_model import LinearRegression\n",
    "\n",
    "linreg = LinearRegression()\n",
    "x = np.arange(0,len(y)).reshape(-1,1)\n",
    "\n",
    "X_train = x[:8]\n",
    "X_test = x[8:]\n",
    "y_train = y[:8]\n",
    "y_test = y[8:]\n",
    "# Fitting the model to the training data\n",
    "linreg.fit(X_train, y_train)\n",
    "\n",
    "\n",
    "# Making predictions on the testing data\n",
    "y_pred = linreg.predict(X_test)\n",
    "\n",
    "# Printing the predicted values\n",
    "print(\"Predicted values:\", y_pred)"
   ]
  },
  {
   "cell_type": "code",
   "execution_count": 46,
   "id": "6b2633d6",
   "metadata": {},
   "outputs": [
    {
     "name": "stdout",
     "output_type": "stream",
     "text": [
      "Real values: [0.5413818359375, 0.049227906740270555, 0.01948164077475667]\n"
     ]
    }
   ],
   "source": [
    "print(\"Real values:\", y_test)"
   ]
  },
  {
   "cell_type": "code",
   "execution_count": 62,
   "id": "04b65779",
   "metadata": {},
   "outputs": [],
   "source": [
    "y_p = linreg.predict(x)"
   ]
  },
  {
   "cell_type": "code",
   "execution_count": 66,
   "id": "dcf72e28",
   "metadata": {},
   "outputs": [
    {
     "name": "stdout",
     "output_type": "stream",
     "text": [
      "[[0.05353727 0.09662374 0.13971021 0.18279668 0.22588315 0.26896961\n",
      "  0.31205608 0.35514255 0.39822902 0.44131549 0.48440196]]\n"
     ]
    }
   ],
   "source": [
    "from sklearn import preprocessing\n",
    "y_norm = preprocessing.normalize([y_p])\n",
    "print(y_norm)"
   ]
  },
  {
   "cell_type": "code",
   "execution_count": 67,
   "id": "70a7e434",
   "metadata": {},
   "outputs": [
    {
     "name": "stdout",
     "output_type": "stream",
     "text": [
      "[[0.03790775 0.12994267 0.32306472 0.00459483 0.4179282  0.42056854\n",
      "  0.41839969 0.41726811 0.41821109 0.03802798 0.01504934]]\n"
     ]
    }
   ],
   "source": [
    "y_norm2 = preprocessing.normalize([y])\n",
    "print(y_norm2)"
   ]
  },
  {
   "cell_type": "markdown",
   "id": "0c6d0b1e",
   "metadata": {},
   "source": [
    "### Results"
   ]
  },
  {
   "cell_type": "code",
   "execution_count": 81,
   "id": "f649d816",
   "metadata": {},
   "outputs": [
    {
     "data": {
      "text/plain": [
       "Text(0, 0.5, 'Charge sizes in GB')"
      ]
     },
     "execution_count": 81,
     "metadata": {},
     "output_type": "execute_result"
    },
    {
     "data": {
      "image/png": "[encoded data removed]",
      "text/plain": [
       "<Figure size 432x288 with 1 Axes>"
      ]
     },
     "metadata": {
      "needs_background": "light"
     },
     "output_type": "display_data"
    }
   ],
   "source": [
    "plt.plot(y_norm[0], label='Predicted')\n",
    "plt.plot(y_norm2[0], label='True')\n",
    "plt.xlabel(\"User Data\")\n",
    "plt.ylabel(\"Charge sizes in GB\")"
   ]
  },
  {
   "cell_type": "markdown",
   "id": "dbb38c87",
   "metadata": {},
   "source": [
    "### API"
   ]
  },
  {
   "cell_type": "code",
   "execution_count": 152,
   "id": "6049d8b8",
   "metadata": {},
   "outputs": [
    {
     "data": {
      "text/plain": [
       "array([0.31407099])"
      ]
     },
     "execution_count": 152,
     "metadata": {},
     "output_type": "execute_result"
    }
   ],
   "source": [
    "from flask import Flask\n",
    "from flask_restful import reqparse, abort, Api, Resource\n",
    "import pickle\n",
    "import numpy as np\n",
    "app = Flask(__name__)\n",
    "api = Api(app)\n",
    "\n",
    "\n",
    "with open('model.pkl','wb') as f:\n",
    "    pickle.dump(linreg,f)\n",
    "\n",
    "# load\n",
    "with open('model.pkl', 'rb') as f:\n",
    "    clf2 = pickle.load(f)\n",
    "\n",
    "clf2.predict([[3]])"
   ]
  },
  {
   "cell_type": "code",
   "execution_count": 141,
   "id": "595c0545",
   "metadata": {},
   "outputs": [
    {
     "data": {
      "text/plain": [
       "<flask_restful.reqparse.RequestParser at 0x1afa059ad30>"
      ]
     },
     "execution_count": 141,
     "metadata": {},
     "output_type": "execute_result"
    }
   ],
   "source": [
    "# argument parsing\n",
    "parser = reqparse.RequestParser()\n",
    "parser.add_argument('query')"
   ]
  },
  {
   "cell_type": "code",
   "execution_count": 142,
   "id": "b6c4fb51",
   "metadata": {},
   "outputs": [],
   "source": [
    "class PredictSentiment(Resource):\n",
    "    def get(self):\n",
    "        # use parser and find the user's query\n",
    "        args = parser.parse_args()\n",
    "        user_query = args['query']\n",
    "        # vectorize the user's query and make a prediction\n",
    "        output = linreg.predict(user_query)\n",
    "        \n",
    "        return output"
   ]
  },
  {
   "cell_type": "code",
   "execution_count": 177,
   "id": "d6fd9612",
   "metadata": {},
   "outputs": [],
   "source": [
    "try:\n",
    "    api.add_resource(PredictSentiment, '/')\n",
    "except:\n",
    "    print(\"Error\")"
   ]
  },
  {
   "cell_type": "code",
   "execution_count": 179,
   "id": "ec9f39a0",
   "metadata": {},
   "outputs": [
    {
     "name": "stdout",
     "output_type": "stream",
     "text": [
      "Error\n"
     ]
    }
   ],
   "source": [
    "import requests\n",
    "url = 'http://127.0.0.1:5000/'\n",
    "params ={'query': [[3]]}\n",
    "try:\n",
    "    response = requests.get(url, params)\n",
    "    response.json()\n",
    "except:\n",
    "    print(\"Error\")"
   ]
  },
  {
   "cell_type": "code",
   "execution_count": null,
   "id": "a486492c",
   "metadata": {},
   "outputs": [],
   "source": []
  }
 ],
 "metadata": {
  "kernelspec": {
   "display_name": "Python 3",
   "language": "python",
   "name": "python3"
  },
  "language_info": {
   "codemirror_mode": {
    "name": "ipython",
    "version": 3
   },
   "file_extension": ".py",
   "mimetype": "text/x-python",
   "name": "python",
   "nbconvert_exporter": "python",
   "pygments_lexer": "ipython3",
   "version": "3.8.8"
  }
 },
 "nbformat": 4,
 "nbformat_minor": 5
}
